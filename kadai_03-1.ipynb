{
 "cells": [
  {
   "cell_type": "code",
   "execution_count": 1,
   "metadata": {},
   "outputs": [
    {
     "name": "stdout",
     "output_type": "stream",
     "text": [
      "Requirement already satisfied: pygame in c:\\programdata\\anaconda3\\lib\\site-packages (1.9.6)\n",
      "Requirement already satisfied: pydub in c:\\programdata\\anaconda3\\lib\\site-packages (0.24.1)\n"
     ]
    }
   ],
   "source": [
    "!pip install pygame"
   ]
  },
  {
   "cell_type": "code",
   "execution_count": 3,
   "metadata": {},
   "outputs": [
    {
     "name": "stdout",
     "output_type": "stream",
     "text": [
      "[[0, 0, 0, 0, 0, 0, 0, 0], [0, 0, 0, 0, 0, 0, 0, 0], [0, 0, 0, 0, 0, 0, 0, 0], [0, 0, 0, 0, 0, 0, 0, 0], [0, 0, 0, 0, 0, 0, 0, 0], [0, 0, 0, 0, 0, 0, 0, 0], [0, 0, 0, 0, 0, 0, 0, 0], [0, 0, 0, 0, 0, 0, 0, 0]]\n"
     ]
    }
   ],
   "source": [
    "import pygame\n",
    "import sys\n",
    "from pygame.locals import *\n",
    "\n",
    "\n",
    "masu = []\n",
    "for i in range(8):\n",
    "    a = [0,0,0,0,0,0,0,0]\n",
    "    masu.append(a)\n",
    "print(masu)\n",
    "\n",
    "img = pygame.image.load(\"Q.jpg\")\n",
    "img = pygame.transform.scale(img, (100, 100)) #100 * 100に画像を縮小\n",
    "\n",
    "\n",
    "\n",
    "pygame.init() # pygame を初期化\n",
    "screen = pygame.display.set_mode((800,800)) # 800x800 サイズのウインドウを生成\n",
    "clock = pygame.time.Clock() # クロックを取得\n",
    "\n",
    "endflg = False\n",
    "cnt = 0\n",
    "\n",
    "while endflg == False:\n",
    "     # ループ終了の判定\n",
    "    for event in pygame.event.get():\n",
    "        if event.type == pygame.QUIT: # ウインドウが閉じられたら、\n",
    "            endflg = True # ループを終了させる\n",
    "        if event.type == pygame.MOUSEBUTTONUP:\n",
    "            clickX, clickY = pygame.mouse.get_pos()\n",
    "            posX = int(clickX/100)\n",
    "            posY = int(clickY/100)\n",
    "            if masu[posX][posY] == 0:\n",
    "                masu[posX][posY] = 2\n",
    "                cnt += 1 \n",
    "                screen.blit(img, (posX * 100,posY * 100))\n",
    "                for i in range(8):\n",
    "                    for j in range(8):\n",
    "                        if (posX - i == posY - j or posX - i == j - posY or i == posX or j == posY) and masu[i][j] == 0:\n",
    "                            masu[i][j] = 1\n",
    "                            pygame.draw.rect(screen, (255,0,0), Rect(i*100,j*100,100,100))\n",
    "                \n",
    "\n",
    "    \n",
    "    for i in range(8):\n",
    "        x = i * 100\n",
    "        y = i * 100\n",
    "        pygame.draw.line(screen, (255,255,255), (0,y),(800,y), 2)\n",
    "        pygame.draw.line(screen, (255,255,255), (x,0),(x,800), 2)\n",
    "        \n",
    "     # 描画処理を画面に反映させる\n",
    "    pygame.display.flip()\n",
    "    # ループを抜けたら全処理終了\n",
    "pygame.quit()"
   ]
  },
  {
   "cell_type": "code",
   "execution_count": null,
   "metadata": {},
   "outputs": [],
   "source": []
  }
 ],
 "metadata": {
  "kernelspec": {
   "display_name": "Python 3",
   "language": "python",
   "name": "python3"
  },
  "language_info": {
   "codemirror_mode": {
    "name": "ipython",
    "version": 3
   },
   "file_extension": ".py",
   "mimetype": "text/x-python",
   "name": "python",
   "nbconvert_exporter": "python",
   "pygments_lexer": "ipython3",
   "version": "3.7.7"
  }
 },
 "nbformat": 4,
 "nbformat_minor": 4
}
